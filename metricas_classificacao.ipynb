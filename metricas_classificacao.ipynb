{
  "cells": [
    {
      "cell_type": "code",
      "metadata": {},
      "source": [
        "# Fun\u00e7\u00e3o para c\u00e1lculo das m\u00e9tricas"
      ],
      "outputs": [],
      "execution_count": null
    },
    {
      "cell_type": "code",
      "metadata": {},
      "source": [
        "def calcular_metricas(vp, vn, fp, fn):\n    total = vp + vn + fp + fn\n\n    acuracia = (vp + vn) / total if total > 0 else 0\n    sensibilidade = vp / (vp + fn) if (vp + fn) > 0 else 0\n    especificidade = vn / (vn + fp) if (vn + fp) > 0 else 0\n    precisao = vp / (vp + fp) if (vp + fp) > 0 else 0\n    f1_score = (2 * precisao * sensibilidade) / (precisao + sensibilidade) if (precisao + sensibilidade) > 0 else 0\n\n    return {\n        \"Acur\u00e1cia\": round(acuracia, 4),\n        \"Sensibilidade (Recall)\": round(sensibilidade, 4),\n        \"Especificidade\": round(especificidade, 4),\n        \"Precis\u00e3o\": round(precisao, 4),\n        \"F1-Score\": round(f1_score, 4)\n    }"
      ],
      "outputs": [],
      "execution_count": null
    },
    {
      "cell_type": "code",
      "metadata": {},
      "source": [
        "# Valores de exemplo da matriz de confus\u00e3o\nvp, vn, fp, fn = 50, 35, 5, 10\nmetricas = calcular_metricas(vp, vn, fp, fn)"
      ],
      "outputs": [],
      "execution_count": null
    },
    {
      "cell_type": "code",
      "metadata": {},
      "source": [
        "# Impress\u00e3o dos resultados\nfor nome, valor in metricas.items():\n    print(f\"{nome}: {valor}\")"
      ],
      "outputs": [],
      "execution_count": null
    }
  ],
  "metadata": {},
  "nbformat": 4,
  "nbformat_minor": 0
}